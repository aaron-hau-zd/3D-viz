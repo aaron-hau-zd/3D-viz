{
 "cells": [
  {
   "cell_type": "code",
   "execution_count": null,
   "id": "b460d8a1",
   "metadata": {},
   "outputs": [],
   "source": [
    "from open3d import * \n",
    "import open3d as o3d\n",
    "import numpy as np\n",
    "\n",
    "from open3d.web_visualizer import draw"
   ]
  },
  {
   "cell_type": "code",
   "execution_count": null,
   "id": "6e5fd600",
   "metadata": {},
   "outputs": [],
   "source": [
    "def get_point_cloud(lidar_file, height = -1.73 , display = False) :\n",
    "    lidar_array = np.fromfile(lidar_file, dtype =np.float32).reshape(-1,4)\n",
    "    lidar_array = np.delete(lidar_array,3,1)\n",
    "\n",
    "    pcd = o3d.geometry.PointCloud()\n",
    "    pcd.points = o3d.utility.Vector3dVector(lidar_array.reshape(-1,3))\n",
    "\n",
    "    ## get all points just above ground level (for V1 - its BEV)\n",
    "    res = np.where(lidar_array >= height) # -1.73 is ground\n",
    "    interest = np.where(res[1] == 2)\n",
    "    points = res[0][interest]\n",
    "    grd = [[0,0,0]]\n",
    "    grd = np.reshape(grd,(-1,3))\n",
    "    for index in points :\n",
    "        coords = lidar_array[index]\n",
    "        coords = np.reshape(coords,(-1,3))\n",
    "        grd = np.append(grd, coords, axis = 0)\n",
    "\n",
    "    ground_pcd = o3d.geometry.PointCloud()\n",
    "    ground_pcd.points = o3d.utility.Vector3dVector(grd)\n",
    "    if display :\n",
    "        custom_draw_geometry_with_custom_fov([ground_pcd], 90.0)\n",
    "    return ground_pcd"
   ]
  },
  {
   "cell_type": "code",
   "execution_count": null,
   "id": "0acdfa2c",
   "metadata": {},
   "outputs": [],
   "source": [
    "pcd = get_point_cloud('./000001.bin')\n",
    "\n",
    "draw([pcd])"
   ]
  },
  {
   "cell_type": "code",
   "execution_count": 2,
   "id": "60253de8",
   "metadata": {},
   "outputs": [
    {
     "name": "stdout",
     "output_type": "stream",
     "text": [
      "[Open3D INFO] WebRTC GUI backend enabled.\n",
      "[Open3D INFO] Window window_0 created.\n",
      "[Open3D INFO] EGL headless mode enabled.\n",
      "FEngine (64 bits) created at 0x7fb19476f010 (threading is enabled)\n",
      "Could not find library libEGL.so.1\n",
      "Segmentation fault\n"
     ]
    }
   ],
   "source": [
    "!python3 test.py"
   ]
  },
  {
   "cell_type": "code",
   "execution_count": null,
   "id": "0b450aae",
   "metadata": {},
   "outputs": [],
   "source": []
  }
 ],
 "metadata": {
  "kernelspec": {
   "display_name": "Python 3 (ipykernel)",
   "language": "python",
   "name": "python3"
  },
  "language_info": {
   "codemirror_mode": {
    "name": "ipython",
    "version": 3
   },
   "file_extension": ".py",
   "mimetype": "text/x-python",
   "name": "python",
   "nbconvert_exporter": "python",
   "pygments_lexer": "ipython3",
   "version": "3.8.12"
  }
 },
 "nbformat": 4,
 "nbformat_minor": 5
}
